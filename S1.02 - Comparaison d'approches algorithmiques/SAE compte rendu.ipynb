{
 "cells": [
  {
   "cell_type": "markdown",
   "id": "027f8213",
   "metadata": {},
   "source": [
    "Ce compte rendu aura pour but d'éclaircir sur notre cheminement de pensée lors du devellopement de cette SAE."
   ]
  },
  {
   "cell_type": "markdown",
   "id": "a437d2c3",
   "metadata": {},
   "source": [
    "# Question préliminaire\n",
    "\n",
    "Le but de cette question était de shématiser un réseau sous la forme d'un tableau. Nous avons du cependant passé par une étape intermédiaire, la shématisation en graphe du dit réseau. Grace a cela nous avons pu mieux visualiser le réseau et le créé manuellement sous forme tableau.\n",
    "\n",
    "# Question 1\n",
    "\n",
    "Le but de ce cette question était de compter le nombre d'amis d'une personne donnée. Il nous a alors fallu réfléchir a la manière de compter ce nombre d'amis. Nous avons alors essayer un code complexe qui fonctionnais mais qui prennais trop de ressource pour s'effectuer. C'est alors que Camelia s'est rendu compte que nous pouvions simplement compter le nombre d'apparition du prénom dans le réseau. C'est ce que nous avons alors fait.\n",
    "\n",
    "# Question 2\n",
    "\n",
    "Le but de cette question était de dénombrer les membres d'un reseau. Pour faire cela nous avons du nous poser la question: comment compter les noms distinctement (donc sans prendre en compte leurs multiples occurence). Il nous est alors venu l'idée de créé un tableau parralèle qui ajouterait chaque noms a condition qu'ils ne soient pas déjà dans ce dernier. On retourne alors sa taille qui équivaut au nombre de membre d'un réseau.\n",
    "\n",
    "# Question 3\n",
    "\n",
    "Le but de cette question était de modéliser un réseau sous format tableau a partir d'un fichier pré-existant. Ce fut certainement la question la plus difficile a réaliser. En premier lieu nous ouvrions le fichier et en extrayons les données. Il nous est alors parvenu un problème sur comment manipuler ces données. Dans certains tests non concluant nous nous retrouvions souvent face un tableau de tableau, ce qui n'était pas attendu. Nous avons alors contourner la difficulté en récupérant les données dans les tableaux qui nous posait problème pour ensuite les ajouter au tableau final et se retrouver avec une bonne modélisation du réseau.\n",
    "\n",
    "# Question 4\n",
    "\n",
    "Le but de cette question était de modéliser autrement le réseau, le modéliser en format dictionnaire. La difficulté dans cette question résidait dans la réciprocité des relations, si A est amis avec B il fallait l'inscrire tout comme la relation de B avec A. En prennant ceci en compte il nous est parut évident qu'il fallait parcourir le tableau paire par paire et effectué les mêmes oppération a chacun des membres des dites paires.\n",
    "\n",
    "# Question 5\n",
    "\n",
    "Le but de cette question, qui a été modifié pendant la période du projet, est de retourner le nombre d'ami de la personne la plus populaire. Chose assez simple, il nous a simplement fallu regarder la taille de chaque tableau d'amis et retourner la taille du plus grand tableau.\n",
    "\n",
    "# Question 6\n",
    "\n",
    "Le but de cette question, qui a été modifié pendant la période du projet, est de retourner un tableau contenant le ou les nom des personne qui possède le plus grand nombre d'amis. Pour cela nous avons utiliser la fonction précédente, et tout ceux qui avait un nombre d'amis égal a son retour s'ajoutait dans le tableau de réponse."
   ]
  }
 ],
 "metadata": {
  "kernelspec": {
   "display_name": "Python 3 (ipykernel)",
   "language": "python",
   "name": "python3"
  },
  "language_info": {
   "codemirror_mode": {
    "name": "ipython",
    "version": 3
   },
   "file_extension": ".py",
   "mimetype": "text/x-python",
   "name": "python",
   "nbconvert_exporter": "python",
   "pygments_lexer": "ipython3",
   "version": "3.9.12"
  }
 },
 "nbformat": 4,
 "nbformat_minor": 5
}
