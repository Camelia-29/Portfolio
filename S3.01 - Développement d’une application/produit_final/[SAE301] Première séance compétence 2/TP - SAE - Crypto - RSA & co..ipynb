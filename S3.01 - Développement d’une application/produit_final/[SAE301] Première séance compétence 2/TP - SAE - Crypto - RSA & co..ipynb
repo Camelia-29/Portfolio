{
 "cells": [
  {
   "cell_type": "markdown",
   "metadata": {},
   "source": [
    "<div id=\"haut2page\" style=\"border:3px solid black; padding:3%; font-size:314% ; text-align:center; color:white; background-color:black;\">\n",
    "    R4.Cyber.10 - Cryptographie<br>\n",
    "</div>\n",
    "<h3>Navigation dans la page</h3>\n",
    "<p>\n",
    "    Si c'est votre première visite dans ce TP, lisez attentivement chacun des points détaillé après ce paragraphe.<br>\n",
    "    Si vous avez déjà commencer à travailler sur ce TP et que vous souhaiter vous déplacer rapidement dans une partie précise vous pouvez choisir la partie que vous souhaitez rejoindre ci-dessous. <br>\n",
    "<details open>\n",
    "        <summary><strong style=\"font-size:1.414em;color:green;\">Menu de navigation</strong> (cliquez pour dérouler)</summary>\n",
    "        <ul>\n",
    "            <li><a href=\"#haut2page\">Haut de page</a></li>\n",
    "            <li><a href=\"#Partie1\">Partie 1 : Du caractères !</a></li>\n",
    "            <li><a href=\"#Partie4\">Partie 2 : L'encodage</a></li>\n",
    "            <li><a href=\"#Partie7\">Partie 3 : RSA</a></li>\n",
    "        </ul>\n",
    "    </details>\n",
    "</p>\n",
    "<details>\n",
    "    <summary><strong style=\"font-size:1.414em\">Technologie jupyter</strong> (cliquer pour dérouler)</summary>\n",
    "<p>\n",
    "    La technologie <em>jupyter</em> permet d'exécuter du code python par un simple clique sur <em>Executer</em> ci-dessus.<br> \n",
    "    Les morceaux de code de cette page sont interprétées case par case. Pour savoir quelle case a été interprétée avant une autre, il suffit de repérer le numéro devant la case. <br>\n",
    "    Une fois qu'une case a été interprétée (=exécutée), la page garde en mémoire les variables et fonctions lues<br>\n",
    "    La plateforme propose quelques outils de purge de la mémoire : \n",
    "    <ul>\n",
    "    <li>Il est possible de tout recommencer (dénuméroter) en choisissant dans le menu <em>Kernel</em> ci-dessus <em>Restart & Clear Output</em> pour purger la mémoire de toutes ses variables et de toutes ses executions </li> \n",
    "    <li>Dans le menu <em>Kernel</em> choisir <em>Restard & Run All</em> aura le même effet que <em>Restart & Clear Output</em> mais en plus relancera chacune des cases depuis le haut du document jusqu'en bas (renuméroter).</li>\n",
    "    </ul>\n",
    "</p>\n",
    "<div style=\"background-color:rgba(255, 0, 0, 0.19);padding:3%;\">\n",
    "    <h3 style=\"color:red;\">SAUVEGARDER VOTRE TRAVAIL</h3>\n",
    "    <p>\n",
    "        Pour ne pas perdre votre travail pensez à le sauvegarder régulièrement. Par défault, la sauvegarde par un clic sur la disquette en haut à gauche de page, ou par le racourci clavier classique <code>ctrl+S</code>\n",
    "    est une sauvegarde en local, sur le serveur de jupyter. Vous pouvez et devez très régulièrement sauvegarder votre travail sur votre support personnel de sauvegarde (clef USB, se l'envoyer par mail etc). Ce faisant vous disposerez d'un fichier  .ipynb (IPYthon NoteBook) qu'il vous suffira de recharger  pour avancer. Après le rechargement assurez vous que les fonctionnalités anciennement developpées et variables utilisées sont bien <em>dans la mémoire de la page</em> (en rééxecutant les cases, ou plus rapidement par <em>Kernel &gt; Restart & Run All</em>.</p>\n",
    "    <p> A NOTER : vous pouvez travailler sur le tp (et tout autre fichier .ipynb) hors connexion en installant une version local du notebook de jupyter. Il faut que votre machine possède un interpreteur de python et que vous soyez connecter à internet.\n",
    "        <ol>\n",
    "            <li>Lancer un terminal</li>\n",
    "            <li>Taper la commande suivante : <code>pip install jupyterlab</code></li>\n",
    "            <li>Une fois l'installation terminée portez votre attention sur les dernières lignes affichées dans votre terminal vous invitant probablement à taper une ligne de commande pour faire une mise à jour</li>\n",
    "            <li>Pour lancer notebook de jupyter, taper dans votre termial : <code>jupyter notebook</code></li>\n",
    "            <li>Votre simulateur de serveur est lancé. Il ne faut pas fermer votre terminal, auquel cas votre simulateur de serveur s'interompera. Suivez le lien indiqué dans les dernières lignes de votre terminal pour vous diriger vers votre espace local. L'interface se présente comme celle que vous trouverez sur le web. Votre travail sera cependant toujours enregistré et jamais perdu même si vous le consultez après plusieurs jours </li>\n",
    "        </ol>\n",
    "    </p>\n",
    "</div>\n",
    "</details>"
   ]
  },
  {
   "cell_type": "markdown",
   "metadata": {},
   "source": [
    "<div style=\"border:3px solid black; padding:3%; font-size:314% ; text-align:center; color:white; background-color:black;\" id=\"Partie1\">\n",
    "    Partie 1 : Du caractère ! \n",
    "</div>\n",
    "\n",
    "\n",
    "<p>\n",
    "    <details>\n",
    "        <summary><strong style=\"font-size:1.414em;color:green;\">Menu de navigation</strong> (cliquez pour dérouler)</summary>\n",
    "        <ul>\n",
    "            <li><a href=\"#haut2page\">Haut de page</a></li>\n",
    "            <li><a href=\"#Partie1\">Partie 1 : Du caractères !</a></li>\n",
    "            <li><a href=\"#Partie4\">Partie 2 : L'encodage</a></li>\n",
    "            <li><a href=\"#Partie7\">Partie 3 : RSA</a></li>\n",
    "        </ul>\n",
    "    </details>\n",
    "</p>"
   ]
  },
  {
   "cell_type": "markdown",
   "metadata": {},
   "source": [
    "<p>\n",
    "    Pour apréhender correctement ce TP de cryptologie, revenons sur la notion de <em>chaine de caractères</em>. \n",
    "    <br>\n",
    "    Une chaine de caractère est une variable de type <code>string</code> délimitée par des guillemets simple ou double (touche 3 ou 4) \n",
    "</p>"
   ]
  },
  {
   "cell_type": "code",
   "execution_count": 20,
   "metadata": {},
   "outputs": [
    {
     "name": "stdout",
     "output_type": "stream",
     "text": [
      "Voici une chaîne de caractères.\n",
      "<class 'str'>\n",
      "Voici une chaîne de caractères.\n",
      "<class 'str'>\n"
     ]
    }
   ],
   "source": [
    "X=\"Voici une chaîne de caractères.\"\n",
    "print(X)\n",
    "print(type(X))#La fonction 'type' permet d'afficher le type d'une variable\n",
    "\n",
    "X='Voici une chaîne de caractères.'\n",
    "print(X)\n",
    "print(type(X))#La fonction 'type' permet d'afficher le type d'une variable"
   ]
  },
  {
   "cell_type": "markdown",
   "metadata": {},
   "source": [
    "<p>Pour acceder à un caractère on utilise les crochets. Par exemple <code>X[12]</code> permet d'acceder au 13ième caractères. En effet, les caractères sont numérotés à partir de 0.</p>"
   ]
  },
  {
   "cell_type": "code",
   "execution_count": 21,
   "metadata": {},
   "outputs": [
    {
     "name": "stdout",
     "output_type": "stream",
     "text": [
      "Le 13ième caractère de \" Voici une chaîne de caractères. \" est a\n"
     ]
    }
   ],
   "source": [
    "x=X[12]\n",
    "print(\"Le 13ième caractère de \\\"\", X, \"\\\" est\", x)"
   ]
  },
  {
   "cell_type": "markdown",
   "metadata": {},
   "source": [
    "<p>La fonction <code>len</code> permet de déterminer la longueur d'une chaine</p>"
   ]
  },
  {
   "cell_type": "code",
   "execution_count": 22,
   "metadata": {},
   "outputs": [
    {
     "name": "stdout",
     "output_type": "stream",
     "text": [
      "La longueur de la chaine \" Voici une chaîne de caractères. \" est 31\n"
     ]
    }
   ],
   "source": [
    "n=len(X)\n",
    "print(\"La longueur de la chaine \\\"\", X, \"\\\" est\", n)"
   ]
  },
  {
   "cell_type": "markdown",
   "metadata": {},
   "source": [
    "<p>Ecrire une procédure qui prend en paramètre un entier <code>n</code> et une chaine de caractère <code>txt</code> et qui affiche le n-ième caractère de la chaine. La fonction devra afficher un message d'erreur si l'entier n est plus grand que la longueur du texte ou négatif.</p>"
   ]
  },
  {
   "cell_type": "code",
   "execution_count": 23,
   "metadata": {},
   "outputs": [],
   "source": [
    "def afficheCara(n, txt) : \n",
    "    if n>len(txt) :\n",
    "        return \"ERREUR : Chiffre plus grand que le texte !\"\n",
    "    if n==0 :\n",
    "        return \"Le \" + str(n) + \"ième caractère de \\\"\" + txt + \"\\\" est \" + txt[n]\n",
    "    return \"Le \" + str(n) + \"ième caractère de \\\"\" + txt + \"\\\" est \" + txt[n-1]"
   ]
  },
  {
   "cell_type": "code",
   "execution_count": 24,
   "metadata": {},
   "outputs": [
    {
     "name": "stdout",
     "output_type": "stream",
     "text": [
      "Le 10ième caractère de \"Hey ! Ca va ?\" est v\n",
      "ERREUR : Chiffre plus grand que le texte !\n",
      "Le 0ième caractère de \"Hey ! Ca va ?\" est H\n"
     ]
    }
   ],
   "source": [
    "#Test\n",
    "print(afficheCara(10, \"Hey ! Ca va ?\"))\n",
    "print(afficheCara(15, \"Hey ! Ca va ?\"))\n",
    "print(afficheCara(0, \"Hey ! Ca va ?\"))"
   ]
  },
  {
   "cell_type": "markdown",
   "metadata": {},
   "source": [
    "<p>A l'aide d'une boucle <code>while</code> affichez un par un les caractères de la chaine <code>X</code>.</p>"
   ]
  },
  {
   "cell_type": "code",
   "execution_count": 25,
   "metadata": {
    "scrolled": true
   },
   "outputs": [
    {
     "name": "stdout",
     "output_type": "stream",
     "text": [
      "L\n",
      "o\n",
      "v\n",
      "e\n"
     ]
    }
   ],
   "source": [
    "def unParUn(txt) :\n",
    "    n=0\n",
    "    while n!=len(txt):\n",
    "        print(txt[n])\n",
    "        n=n+1\n",
    "        \n",
    "unParUn(\"Love\")"
   ]
  },
  {
   "cell_type": "markdown",
   "metadata": {},
   "source": [
    "<p>Il est possible de parcourir une chaine de caractère à l'aide d'une boucle <code>for</code> : \n",
    "<br>\n",
    "    <code>for x in X :</code><br>\n",
    "La variable <code>x</code> prendra successivement comme valeur chacun des caractères de <code>X</code>.\n",
    "</p>"
   ]
  },
  {
   "cell_type": "code",
   "execution_count": 26,
   "metadata": {
    "scrolled": true
   },
   "outputs": [
    {
     "name": "stdout",
     "output_type": "stream",
     "text": [
      "V\n",
      "o\n",
      "i\n",
      "c\n",
      "i\n",
      " \n",
      "u\n",
      "n\n",
      "e\n",
      " \n",
      "c\n",
      "h\n",
      "a\n",
      "î\n",
      "n\n",
      "e\n",
      " \n",
      "d\n",
      "e\n",
      " \n",
      "c\n",
      "a\n",
      "r\n",
      "a\n",
      "c\n",
      "t\n",
      "è\n",
      "r\n",
      "e\n",
      "s\n",
      ".\n"
     ]
    }
   ],
   "source": [
    "for x in X : \n",
    "    print(x)"
   ]
  },
  {
   "cell_type": "markdown",
   "metadata": {},
   "source": [
    "<p>L'opération d'addition permet de <em>concatener</em> les chaines de caractères.</p>"
   ]
  },
  {
   "cell_type": "code",
   "execution_count": 27,
   "metadata": {},
   "outputs": [
    {
     "name": "stdout",
     "output_type": "stream",
     "text": [
      "Voici une chaîne de caractères.Quelle belle chaine de caractères !\n",
      "Voici une chaîne de caractères.\n",
      "Quelle belle chaine de caractères !\n"
     ]
    }
   ],
   "source": [
    "Y=\"Quelle belle chaine de caractères !\"\n",
    "Z=X+Y\n",
    "T=X+\"\\n\"+Y#\\n est le caractère de saut de ligne\n",
    "print(Z)\n",
    "print(T)"
   ]
  },
  {
   "cell_type": "markdown",
   "metadata": {},
   "source": [
    "<p>Ecrivez <code>HA HA HA... HA</code> composée de 1983 <code>HA</code></p>"
   ]
  },
  {
   "cell_type": "code",
   "execution_count": 28,
   "metadata": {
    "scrolled": true
   },
   "outputs": [
    {
     "name": "stdout",
     "output_type": "stream",
     "text": [
      "HA HA HA HA HA HA HA HA HA HA HA HA HA HA HA HA HA HA HA HA HA HA HA HA HA HA HA HA HA HA HA HA HA HA HA HA HA HA HA HA HA HA HA HA HA HA HA HA HA HA HA HA HA HA HA HA HA HA HA HA HA HA HA HA HA HA HA HA HA HA HA HA HA HA HA HA HA HA HA HA HA HA HA HA HA HA HA HA HA HA HA HA HA HA HA HA HA HA HA HA HA HA HA HA HA HA HA HA HA HA HA HA HA HA HA HA HA HA HA HA HA HA HA HA HA HA HA HA HA HA HA HA HA HA HA HA HA HA HA HA HA HA HA HA HA HA HA HA HA HA HA HA HA HA HA HA HA HA HA HA HA HA HA HA HA HA HA HA HA HA HA HA HA HA HA HA HA HA HA HA HA HA HA HA HA HA HA HA HA HA HA HA HA HA HA HA HA HA HA HA HA HA HA HA HA HA HA HA HA HA HA HA HA HA HA HA HA HA HA HA HA HA HA HA HA HA HA HA HA HA HA HA HA HA HA HA HA HA HA HA HA HA HA HA HA HA HA HA HA HA HA HA HA HA HA HA HA HA HA HA HA HA HA HA HA HA HA HA HA HA HA HA HA HA HA HA HA HA HA HA HA HA HA HA HA HA HA HA HA HA HA HA HA HA HA HA HA HA HA HA HA HA HA HA HA HA HA HA HA HA HA HA HA HA HA HA HA HA HA HA HA HA HA HA HA HA HA HA HA HA HA HA HA HA HA HA HA HA HA HA HA HA HA HA HA HA HA HA HA HA HA HA HA HA HA HA HA HA HA HA HA HA HA HA HA HA HA HA HA HA HA HA HA HA HA HA HA HA HA HA HA HA HA HA HA HA HA HA HA HA HA HA HA HA HA HA HA HA HA HA HA HA HA HA HA HA HA HA HA HA HA HA HA HA HA HA HA HA HA HA HA HA HA HA HA HA HA HA HA HA HA HA HA HA HA HA HA HA HA HA HA HA HA HA HA HA HA HA HA HA HA HA HA HA HA HA HA HA HA HA HA HA HA HA HA HA HA HA HA HA HA HA HA HA HA HA HA HA HA HA HA HA HA HA HA HA HA HA HA HA HA HA HA HA HA HA HA HA HA HA HA HA HA HA HA HA HA HA HA HA HA HA HA HA HA HA HA HA HA HA HA HA HA HA HA HA HA HA HA HA HA HA HA HA HA HA HA HA HA HA HA HA HA HA HA HA HA HA HA HA HA HA HA HA HA HA HA HA HA HA HA HA HA HA HA HA HA HA HA HA HA HA HA HA HA HA HA HA HA HA HA HA HA HA HA HA HA HA HA HA HA HA HA HA HA HA HA HA HA HA HA HA HA HA HA HA HA HA HA HA HA HA HA HA HA HA HA HA HA HA HA HA HA HA HA HA HA HA HA HA HA HA HA HA HA HA HA HA HA HA HA HA HA HA HA HA HA HA HA HA HA HA HA HA HA HA HA HA HA HA HA HA HA HA HA HA HA HA HA HA HA HA HA HA HA HA HA HA HA HA HA HA HA HA HA HA HA HA HA HA HA HA HA HA HA HA HA HA HA HA HA HA HA HA HA HA HA HA HA HA HA HA HA HA HA HA HA HA HA HA HA HA HA HA HA HA HA HA HA HA HA HA HA HA HA HA HA HA HA HA HA HA HA HA HA HA HA HA HA HA HA HA HA HA HA HA HA HA HA HA HA HA HA HA HA HA HA HA HA HA HA HA HA HA HA HA HA HA HA HA HA HA HA HA HA HA HA HA HA HA HA HA HA HA HA HA HA HA HA HA HA HA HA HA HA HA HA HA HA HA HA HA HA HA HA HA HA HA HA HA HA HA HA HA HA HA HA HA HA HA HA HA HA HA HA HA HA HA HA HA HA HA HA HA HA HA HA HA HA HA HA HA HA HA HA HA HA HA HA HA HA HA HA HA HA HA HA HA HA HA HA HA HA HA HA HA HA HA HA HA HA HA HA HA HA HA HA HA HA HA HA HA HA HA HA HA HA HA HA HA HA HA HA HA HA HA HA HA HA HA HA HA HA HA HA HA HA HA HA HA HA HA HA HA HA HA HA HA HA HA HA HA HA HA HA HA HA HA HA HA HA HA HA HA HA HA HA HA HA HA HA HA HA HA HA HA HA HA HA HA HA HA HA HA HA HA HA HA HA HA HA HA HA HA HA HA HA HA HA HA HA HA HA HA HA HA HA HA HA HA HA HA HA HA HA HA HA HA HA HA HA HA HA HA HA HA HA HA HA HA HA HA HA HA HA HA HA HA HA HA HA HA HA HA HA HA HA HA HA HA HA HA HA HA HA HA HA HA HA HA HA HA HA HA HA HA HA HA HA HA HA HA HA HA HA HA HA HA HA HA HA HA HA HA HA HA HA HA HA HA HA HA HA HA HA HA HA HA HA HA HA HA HA HA HA HA HA HA HA HA HA HA HA HA HA HA HA HA HA HA HA HA HA HA HA HA HA HA HA HA HA HA HA HA HA HA HA HA HA HA HA HA HA HA HA HA HA HA HA HA HA HA HA HA HA HA HA HA HA HA HA HA HA HA HA HA HA HA HA HA HA HA HA HA HA HA HA HA HA HA HA HA HA HA HA HA HA HA HA HA HA HA HA HA HA HA HA HA HA HA HA HA HA HA HA HA HA HA HA HA HA HA HA HA HA HA HA HA HA HA HA HA HA HA HA HA HA HA HA HA HA HA HA HA HA HA HA HA HA HA HA HA HA HA HA HA HA HA HA HA HA HA HA HA HA HA HA HA HA HA HA HA HA HA HA HA HA HA HA HA HA HA HA HA HA HA HA HA HA HA HA HA HA HA HA HA HA HA HA HA HA HA HA HA HA HA HA HA HA HA HA HA HA HA HA HA HA HA HA HA HA HA HA HA HA HA HA HA HA HA HA HA HA HA HA HA HA HA HA HA HA HA HA HA HA HA HA HA HA HA HA HA HA HA HA HA HA HA HA HA HA HA HA HA HA HA HA HA HA HA HA HA HA HA HA HA HA HA HA HA HA HA HA HA HA HA HA HA HA HA HA HA HA HA HA HA HA HA HA HA HA HA HA HA HA HA HA HA HA HA HA HA HA HA HA HA HA HA HA HA HA HA HA HA HA HA HA HA HA HA HA HA HA HA HA HA HA HA HA HA HA HA HA HA HA HA HA HA HA HA HA HA HA HA HA HA HA HA HA HA HA HA HA HA HA HA HA HA HA HA HA HA HA HA HA HA HA HA HA HA HA HA HA HA HA HA HA HA HA HA HA HA HA HA HA HA HA HA HA HA HA HA HA HA HA HA HA HA HA HA HA HA HA HA HA HA HA HA HA HA HA HA HA HA HA HA HA HA HA HA HA HA HA HA HA HA HA HA HA HA HA HA HA HA HA HA HA HA HA HA HA HA HA HA HA HA HA HA HA HA HA HA HA HA HA HA HA HA HA HA HA HA HA HA HA HA HA HA HA HA HA HA HA HA HA HA HA HA HA HA HA HA HA HA HA HA HA HA HA HA HA HA HA HA HA HA HA HA HA HA HA HA HA HA HA HA HA HA HA HA HA HA HA HA HA HA HA HA HA HA HA HA HA HA HA HA HA HA HA HA HA HA HA HA HA HA HA HA HA HA HA HA HA HA HA HA HA HA HA HA HA HA HA HA HA HA HA HA HA HA HA HA HA HA HA HA HA HA HA HA HA HA HA HA HA HA HA HA HA HA HA HA HA HA HA HA HA HA HA HA HA HA HA HA HA HA HA HA HA HA HA HA HA HA HA HA HA HA HA HA HA HA HA HA HA HA HA HA HA HA HA HA HA HA HA HA HA HA HA HA HA HA HA HA HA HA HA HA HA HA HA HA HA HA HA HA HA HA HA HA HA HA HA HA HA HA HA HA HA HA HA HA HA HA HA HA HA HA HA HA HA HA HA HA HA HA HA HA HA HA HA HA HA HA HA HA HA HA HA HA HA HA HA HA HA HA HA HA HA HA HA HA HA HA HA HA HA HA HA HA HA HA HA HA HA HA HA HA HA HA HA HA HA HA HA HA HA HA HA HA HA HA HA HA HA HA HA HA HA HA HA HA HA HA HA HA HA HA HA HA HA HA HA HA HA HA HA HA HA HA HA HA HA HA HA HA HA HA HA HA HA HA HA HA HA HA HA HA HA HA HA HA HA HA HA HA HA HA HA HA HA HA HA HA HA HA HA HA HA HA HA HA HA HA HA HA HA HA HA HA HA HA HA HA HA HA HA HA HA HA HA HA HA HA HA HA HA HA HA HA HA HA HA HA HA HA HA HA HA HA HA HA HA HA HA HA HA HA HA HA HA HA HA HA HA HA HA HA HA HA HA HA HA HA HA HA HA HA HA HA HA HA HA HA HA HA HA HA HA HA HA HA HA HA HA HA HA HA HA HA HA HA HA HA HA HA HA HA HA HA HA HA HA \n"
     ]
    }
   ],
   "source": [
    "A=\"HA \"\n",
    "B= 1983*A\n",
    "print(B)"
   ]
  },
  {
   "cell_type": "markdown",
   "metadata": {},
   "source": [
    "<p>Informatiquement un caractère est un nombre et tout nombre (inférieur à 1 114 111) est un caractère. On parle du code ASCII du caractère.\n",
    "<ul>\n",
    "    <li>La fontion <code>ord</code> prend un caractère et renvoie sa valeur numérique</li>\n",
    "    <li>La fontion <code>chr</code> prend un nombre (inférieur à 1 114 111) et renvoie son expression</li>\n",
    "</ul>\n",
    "\n",
    "<ol>\n",
    "    <li>Donner le code ASCII du saut de ligne</li>\n",
    "    <li>Donner le code ASCII du caractère 丠</li>\n",
    "    <li>Quel caractère a pour code ASCII 666 ?</li>\n",
    "    <li>Quel caractère a pour code ASCII de cette année ?</li>\n",
    "</ol>\n",
    "</p>"
   ]
  },
  {
   "cell_type": "code",
   "execution_count": 30,
   "metadata": {},
   "outputs": [
    {
     "name": "stdout",
     "output_type": "stream",
     "text": [
      "1.  10\n",
      "2.  20000\n",
      "3.  ʚ\n",
      "4.  ߧ\n"
     ]
    }
   ],
   "source": [
    "print(\"1. \", ord('\\n'))\n",
    "print(\"2. \", ord('丠'))\n",
    "print(\"3. \", chr(666))\n",
    "print(\"4. \", chr(2023))"
   ]
  },
  {
   "cell_type": "markdown",
   "metadata": {},
   "source": [
    "<p>Ecrire une fonction qui prend en paramètre une chaine de caractère et qui renvoie la liste des codes ASCII des caractères qui la compose</p>"
   ]
  },
  {
   "cell_type": "code",
   "execution_count": 33,
   "metadata": {},
   "outputs": [],
   "source": [
    "def ord_chaine(X) : \n",
    "    n=0\n",
    "    tab=[]\n",
    "    while n!=len(X):\n",
    "        tab.append(ord(X[n]))\n",
    "        n=n+1\n",
    "    return tab"
   ]
  },
  {
   "cell_type": "code",
   "execution_count": 34,
   "metadata": {},
   "outputs": [
    {
     "name": "stdout",
     "output_type": "stream",
     "text": [
      "[83, 97, 108, 117, 116]\n"
     ]
    }
   ],
   "source": [
    "#Test\n",
    "print(ord_chaine(\"Salut\"))\n",
    "#Résultat : [83, 97, 108, 117, 116]"
   ]
  },
  {
   "cell_type": "markdown",
   "metadata": {},
   "source": [
    "<p>Ecrire une fonction qui prend une liste d'entier correspondant à des codes ASCII et qui renvoie la chaine de caractères de ces codes.</p>"
   ]
  },
  {
   "cell_type": "code",
   "execution_count": 39,
   "metadata": {},
   "outputs": [],
   "source": [
    "def chr_chaine(L) :  \n",
    "    n=0\n",
    "    ch=\"\"\n",
    "    while n!=len(L):\n",
    "        ch+=chr(L[n])\n",
    "        n=n+1\n",
    "    return \"La chaîne est : \" + ch"
   ]
  },
  {
   "cell_type": "code",
   "execution_count": 40,
   "metadata": {},
   "outputs": [
    {
     "name": "stdout",
     "output_type": "stream",
     "text": [
      "La chaîne est : Ca se passe bien ?\n"
     ]
    }
   ],
   "source": [
    "#Test\n",
    "print(chr_chaine([67, 97, 32, 115, 101, 32, 112, 97, 115, 115, 101, 32, 98, 105, 101, 110, 32, 63]))"
   ]
  },
  {
   "cell_type": "markdown",
   "metadata": {},
   "source": [
    "<div style=\"border:3px solid black; padding:3%; font-size:314% ; text-align:center; color:white; background-color:black;\" id=\"Partie4\">\n",
    "    Partie 2 : L'encodage\n",
    "</div>\n",
    "\n",
    "<p>\n",
    "    <details>\n",
    "        <summary><strong style=\"font-size:1.414em;color:green;\">Menu de navigation</strong> (cliquez pour dérouler)</summary>\n",
    "        <ul>\n",
    "            <li><a href=\"#haut2page\">Haut de page</a></li>\n",
    "            <li><a href=\"#Partie1\">Partie 1 : Du caractères !</a></li>\n",
    "            <li><a href=\"#Partie4\">Partie 2 : L'encodage</a></li>\n",
    "            <li><a href=\"#Partie7\">Partie 3 : RSA</a></li>\n",
    "        </ul>\n",
    "    </details>\n",
    "</p>"
   ]
  },
  {
   "cell_type": "markdown",
   "metadata": {},
   "source": [
    "<p>Comme nous l'avons vu, un caractère est en fait une valeur numérique, mais il existe plusieurs manières de considérer ces nombres. On parle de l'encodage d'un caractère. L'encodage le plus courrant est <em>UTF8</em> (surtout pour le web) mais il y a également l'<em>ANSI</em>, l'<code>ASCII</code> ou le <em>LATIN1</em>. Les méthodes <code>encode</code> et <code>decode</code> des chaines de caractères permettent de spécifier les encodages. \n",
    "<ul>\n",
    "<li>L'instruction <code>txt.encode(\"...\")</code> va retourner la chaine avec l'encodage spécifié. En particulier cette chaine est une expression binaire qui se repère par un <code>b</code> au début de son expression. Certains caractères, non reconnu par ce navigateur, s'afficherons alors avec leur code binaire, exprimé en hexadécimale, que l'on repère par <code>\\x</code> suivit de deux valeurs héxadécimales.</li>\n",
    "<li>\n",
    "A l'inverse l'instruction <code>txt.decode(\"...\")</code> va retourner une chaine à partir d'une chaine en binaire en suivant l'encodage spécifié. Mais si les caractères ne sont pas reconnu par l'encodage alors cela provoquera une erreur.\n",
    "</li>\n",
    "</ul>\n",
    "</p>"
   ]
  },
  {
   "cell_type": "code",
   "execution_count": 41,
   "metadata": {},
   "outputs": [
    {
     "name": "stdout",
     "output_type": "stream",
     "text": [
      "Il était une fois...\n",
      "b'Il \\xc3\\xa9tait une fois...'\n",
      "b'Il \\xe9tait une fois...'\n",
      "\n",
      "\n",
      "b'Ben \\xc3\\xa7a alors !'\n",
      "<class 'bytes'>\n",
      "Ben ça alors !\n"
     ]
    },
    {
     "ename": "UnicodeDecodeError",
     "evalue": "'ascii' codec can't decode byte 0xc3 in position 4: ordinal not in range(128)",
     "output_type": "error",
     "traceback": [
      "\u001b[1;31m---------------------------------------------------------------------------\u001b[0m",
      "\u001b[1;31mUnicodeDecodeError\u001b[0m                        Traceback (most recent call last)",
      "Input \u001b[1;32mIn [41]\u001b[0m, in \u001b[0;36m<cell line: 11>\u001b[1;34m()\u001b[0m\n\u001b[0;32m      9\u001b[0m \u001b[38;5;28mprint\u001b[39m(\u001b[38;5;28mtype\u001b[39m(txt))\n\u001b[0;32m     10\u001b[0m \u001b[38;5;28mprint\u001b[39m(txt\u001b[38;5;241m.\u001b[39mdecode())\u001b[38;5;66;03m#La vleur par défaut est celle de jupyter = celle du navigateur - en générale UTF8\u001b[39;00m\n\u001b[1;32m---> 11\u001b[0m \u001b[38;5;28mprint\u001b[39m(\u001b[43mtxt\u001b[49m\u001b[38;5;241;43m.\u001b[39;49m\u001b[43mdecode\u001b[49m\u001b[43m(\u001b[49m\u001b[38;5;124;43m\"\u001b[39;49m\u001b[38;5;124;43mascii\u001b[39;49m\u001b[38;5;124;43m\"\u001b[39;49m\u001b[43m)\u001b[49m)\n",
      "\u001b[1;31mUnicodeDecodeError\u001b[0m: 'ascii' codec can't decode byte 0xc3 in position 4: ordinal not in range(128)"
     ]
    }
   ],
   "source": [
    "txt=\"Il était une fois...\"\n",
    "print(txt)\n",
    "print(txt.encode(\"utf-8\"))\n",
    "print(txt.encode(\"ansi\"))\n",
    "print(\"\\n\")\n",
    "\n",
    "txt=\"Ben ça alors !\".encode(\"utf-8\")\n",
    "print(txt)\n",
    "print(type(txt))\n",
    "print(txt.decode())#La vleur par défaut est celle de jupyter = celle du navigateur - en générale UTF8\n",
    "print(txt.decode(\"ascii\"))\n",
    "#Cette dernière instruction va  provoquer une erreur \n",
    "#car le caractère 'ç' encodé en utf-8 par le nombre hexadécimale c3, c'est à dire la valeur 195 (caractère \\xc3),\n",
    "#ne se décode pas en en ascii"
   ]
  },
  {
   "cell_type": "markdown",
   "metadata": {},
   "source": [
    "<p>Ecrire une fonction qui prend en paramètre une chaine de caractère encodée en <em>UTF8</em> et qui renvoie cette chaine encoder en <em>ANSI</em> </p>"
   ]
  },
  {
   "cell_type": "code",
   "execution_count": 59,
   "metadata": {},
   "outputs": [],
   "source": [
    "def modif_encode(txt) : \n",
    "    txt=txt.encode(\"ansi\")\n",
    "    return txt"
   ]
  },
  {
   "cell_type": "code",
   "execution_count": 60,
   "metadata": {},
   "outputs": [
    {
     "name": "stdout",
     "output_type": "stream",
     "text": [
      "Ma chaîne !\n",
      "b'Ma cha\\xeene !'\n"
     ]
    }
   ],
   "source": [
    "txt = \"Ma chaîne !\"\n",
    "print(txt)#Ma chaîne !\n",
    "print(modif_encode(txt))#Ma chaÃ®ne !"
   ]
  },
  {
   "cell_type": "markdown",
   "metadata": {},
   "source": [
    "<p>Dans la suite nous allons faire du chiffrement <em>de la vie de tous les jours</em>. Dans le cadre actuel, un chiffrement affecte l'expression binaire d'une donnée. On considèrera alors que tous nos messages (c'est à dire les variables d'entrée et de sortie de nos fonctions de chiffrement) seront de telles expressions binaires en suivant l'encodade le plus répandu : <code>utf-8</code>. \n",
    "    <br><div style=\"text-align : center; font-weight:bold;font-size:1.19em\">Pour simplifier l'expression des chaînes de caractères nous allons les écrires en hexadécimale. \n",
    "    </div>L'hexadécimal est le système de numération en base 16 : 0, 1, 2, 3, 4, 5, 6, 7, 8, 9, A, B, C, D, E, F. Un nombre en hexadécimale se repère en python par <code>0x</code> devant son expression.</p>"
   ]
  },
  {
   "cell_type": "code",
   "execution_count": 61,
   "metadata": {},
   "outputs": [
    {
     "name": "stdout",
     "output_type": "stream",
     "text": [
      "0 = 0x0\n",
      "1 = 0x1\n",
      "2 = 0x2\n",
      "3 = 0x3\n",
      "4 = 0x4\n",
      "5 = 0x5\n",
      "6 = 0x6\n",
      "7 = 0x7\n",
      "8 = 0x8\n",
      "9 = 0x9\n",
      "10 = 0xa\n",
      "11 = 0xb\n",
      "12 = 0xc\n",
      "13 = 0xd\n",
      "14 = 0xe\n",
      "15 = 0xf\n",
      "16 = 0x10\n",
      "17 = 0x11\n",
      "18 = 0x12\n",
      "19 = 0x13\n",
      "20 = 0x14\n",
      "21 = 0x15\n",
      "22 = 0x16\n",
      "23 = 0x17\n",
      "24 = 0x18\n",
      "25 = 0x19\n",
      "26 = 0x1a\n",
      "27 = 0x1b\n",
      "28 = 0x1c\n",
      "29 = 0x1d\n",
      "30 = 0x1e\n",
      "31 = 0x1f\n",
      "32 = 0x20\n"
     ]
    }
   ],
   "source": [
    "for n in range(33) : print(n, \"=\", hex(n))"
   ]
  },
  {
   "cell_type": "markdown",
   "metadata": {},
   "source": [
    "<p>La méthode éponyme, transforme une chaine binaire en hexadécimale</p>"
   ]
  },
  {
   "cell_type": "code",
   "execution_count": 62,
   "metadata": {},
   "outputs": [
    {
     "name": "stdout",
     "output_type": "stream",
     "text": [
      "53616c7574\n"
     ]
    }
   ],
   "source": [
    "X=b'Salut' #b = le byte\n",
    "print(X.hex())"
   ]
  },
  {
   "cell_type": "markdown",
   "metadata": {},
   "source": [
    "<p>La fonction <code>bytes.fromhex</code> transforme une chaine exprimée en hexadécimale en binaire.</p>"
   ]
  },
  {
   "cell_type": "code",
   "execution_count": 63,
   "metadata": {},
   "outputs": [
    {
     "name": "stdout",
     "output_type": "stream",
     "text": [
      "b'Coucou'\n"
     ]
    }
   ],
   "source": [
    "X='436f75636f75'\n",
    "print(bytes.fromhex(X))"
   ]
  },
  {
   "cell_type": "markdown",
   "metadata": {},
   "source": [
    "<p>Ecrire la fonction <code>str2hex</code> qui prend en paramètre une chaine de caractère et renvoie son expression hexadécimale</p>"
   ]
  },
  {
   "cell_type": "code",
   "execution_count": 76,
   "metadata": {},
   "outputs": [],
   "source": [
    "def str2hex(txt, encodage=\"utf-8\") : \n",
    "    return txt.encode(encodage).hex()"
   ]
  },
  {
   "cell_type": "code",
   "execution_count": 77,
   "metadata": {},
   "outputs": [
    {
     "name": "stdout",
     "output_type": "stream",
     "text": [
      "5175656c6c652067616cc3a872652063657320686973746f69726573206427656e636f646167652021\n"
     ]
    }
   ],
   "source": [
    "txt=\"Quelle galère ces histoires d'encodage !\"\n",
    "print(str2hex(txt))#5175656c6c652067616cc3a872652063657320686973746f69726573206427656e636f646167652021"
   ]
  },
  {
   "cell_type": "markdown",
   "metadata": {},
   "source": [
    "<p>Ecrire la fonction <code>hex2str</code> réalisant le processus inverse.</p>"
   ]
  },
  {
   "cell_type": "code",
   "execution_count": 80,
   "metadata": {},
   "outputs": [],
   "source": [
    "def hex2str(X, encodage=\"utf-8\") : \n",
    "    return bytes.fromhex(X).decode(encodage)"
   ]
  },
  {
   "cell_type": "code",
   "execution_count": 81,
   "metadata": {},
   "outputs": [
    {
     "name": "stdout",
     "output_type": "stream",
     "text": [
      "On voit enfin le bout de ce bazard\n"
     ]
    }
   ],
   "source": [
    "#Test\n",
    "X='4f6e20766f697420656e66696e206c6520626f75742064652063652062617a617264'\n",
    "print(hex2str(X))"
   ]
  },
  {
   "cell_type": "markdown",
   "metadata": {},
   "source": [
    "<div style=\"border:3px solid black; padding:3%; font-size:314% ; text-align:center; color:white; background-color:black;\" id=\"Partie7\">\n",
    "    Partie 3 : RSA\n",
    "</div>\n",
    "\n",
    "<p>\n",
    "    <details>\n",
    "        <summary><strong style=\"font-size:1.414em;color:green;\">Menu de navigation</strong> (cliquez pour dérouler)</summary>\n",
    "       <ul>\n",
    "            <li><a href=\"#haut2page\">Haut de page</a></li>\n",
    "            <li><a href=\"#Partie1\">Partie 1 : Du caractères !</a></li>\n",
    "            <li><a href=\"#Partie4\">Partie 2 : L'encodage</a></li>\n",
    "            <li><a href=\"#Partie7\">Partie 3 : RSA</a></li>\n",
    "        </ul>\n",
    "    </details>\n",
    "</p>"
   ]
  },
  {
   "cell_type": "markdown",
   "metadata": {},
   "source": [
    "<p>\n",
    "La bibliothèque <code>cryptography</code> permet de gèrer le protocole de chiffrement RSA.\n",
    "<br>\n",
    "La première étape consiste à créer un jeu de clef publique et de clef privé. Pour y arriver, rien de plus simple, il suffit d'utiliser la fonction <code>generate_private_key</code> qui prend en paramètre la puissance que l'on souhaite considérer (en général on met $3$ ou $65537$, c'est une convention dans ce protocole, le chiffrement est alors tout aussi sécurisé et bien rapide). Ainsi que la taille de la clef souhaité, en générale $2048$, mais on peut aussi prendre $4096$ (prend du temps en calcul) ou $1024$ (racourci le temps de calcul mais augmente la vulnérabilité tout comme le $512$ que nous essayerons d'attaquer à la fin de ce TP).\n",
    "<br>\n",
    "    Il est alors possible de récupérer toutes les données qui permettent de la construction des clefs (voir cours <a href=\"https://www.ataraxy.info/Crypto?Chapitres/RSA\">ici</a>)\n",
    "</p>"
   ]
  },
  {
   "cell_type": "code",
   "execution_count": 82,
   "metadata": {},
   "outputs": [
    {
     "name": "stdout",
     "output_type": "stream",
     "text": [
      "p = 171743664715136811579385802568345203607160321630568437127471906612598196781731206462416775318454269418871213781906468221300835329555394022000356849239699374281803480716331547943186372422623961683792768263497075008488618433820921191405744947635687553422044345976861935308715760765048275058212318733800395591193\n",
      "\n",
      "q = 142692428110408115290383404964641703437126408331770708619886726360580186738676296399471390894989030080619387942025189594441300520134185445931396115593450000982445423980546787092255765850995574965073989632745177721959161706740252884648346544050714487324672026674588224743191975804960818805882296629732205358201\n",
      "\n",
      "e = 3\n",
      "\n",
      "d = 16337680353855129553801901594588794214444105178629986066511055038187887758534866855335526994427868849062677739828808666286320663858518948187657495916851941651438015088709232155540069390529447004568602127826212859803027595962518310745322987872128317478705092767423511918408185792428858198410228087333915219313491216712346412691349343502136235054194711693510124568139532209365628859232986445584400260547094003632734054294701548386138411231781538407859563217953661829797058651646708754480781844714908804493610099685199987568376945482075960932235497694080124796991189975026474002643689722146986696446701861945626083316267\n",
      "\n",
      "p*q = 24506520530782694330702852391883191321666157767944979099766582557281831637802300283003290491641803273594016609743212999429480995787778422281486243875277912477157022633063848233310104085794170506852903191739319289704541393943777466117984481808192476218057639151135267877612278688643287297615342131000872828970551261161345163963893784460737339488336354270227525997956656947021621672369887171238488557034084304948591683165983980394949752697361887079721097791763642119959836882166941466756614905345982743389281907424042234083013198363675115474407338032806589236233501335191161164017442319790489138534147408281971725923793\n",
      "\n",
      "n = 24506520530782694330702852391883191321666157767944979099766582557281831637802300283003290491641803273594016609743212999429480995787778422281486243875277912477157022633063848233310104085794170506852903191739319289704541393943777466117984481808192476218057639151135267877612278688643287297615342131000872828970551261161345163963893784460737339488336354270227525997956656947021621672369887171238488557034084304948591683165983980394949752697361887079721097791763642119959836882166941466756614905345982743389281907424042234083013198363675115474407338032806589236233501335191161164017442319790489138534147408281971725923793\n",
      "\n",
      "Est-ce que p*q=n ? Réponse : True\n",
      "\n",
      "phi = 24506520530782694330702852391883191321666157767944979099766582557281831637802300283003290491641803273594016609743212999429480995787778422281486243875277912477157022633063848233310104085794170506852903191739319289704541393943777466117984481808192476218057639151135267877612278688643287297615342131000872828970236825068519619037024015253204352581292067540265186852209298314048443288849479668376600390820641005449101081442052322579207616847672307611789344826930492744695587977470063131721172767072363206740415149527799981352565418223113941398353246541120187195486784962539711003965534583220480044670052792918439124974400\n",
      "\n"
     ]
    }
   ],
   "source": [
    "from cryptography.hazmat.primitives import serialization, hashes\n",
    "from cryptography.hazmat.primitives.asymmetric import rsa, padding\n",
    "from cryptography.hazmat.primitives.asymmetric.rsa import *\n",
    "from cryptography.hazmat.backends import default_backend\n",
    "\n",
    "# Génération de la clé privée\n",
    "PR = generate_private_key(public_exponent=3, key_size=2048)\n",
    "PU = PR.public_key()\n",
    "\n",
    "# On peut avoir accès à toutes les données permettant de créer une clef RSA : \n",
    "p=PR.private_numbers().p\n",
    "q=PR.private_numbers().q\n",
    "d=PR.private_numbers().d\n",
    "n=PU.public_numbers().n\n",
    "e=PU.public_numbers().e\n",
    "\n",
    "print(\"p =\", p, end=\"\\n\\n\")\n",
    "print(\"q =\", q, end=\"\\n\\n\")\n",
    "print(\"e =\", e, end=\"\\n\\n\")\n",
    "print(\"d =\", d, end=\"\\n\\n\")\n",
    "\n",
    "print(\"p*q =\", p*q, end=\"\\n\\n\")\n",
    "print(\"n =\", n, end=\"\\n\\n\")\n",
    "print(\"Est-ce que p*q=n ? Réponse :\", p*q==n, end=\"\\n\\n\")\n",
    "print(\"phi =\", (p-1)*(q-1), end=\"\\n\\n\")"
   ]
  },
  {
   "cell_type": "markdown",
   "metadata": {},
   "source": [
    "<p>Ecrire une fonction qui prend en paramètre, $p$, $q$ et $e$ et retourne le $d$ (voir cours)</p>"
   ]
  },
  {
   "cell_type": "code",
   "execution_count": 85,
   "metadata": {},
   "outputs": [],
   "source": [
    "def inv_mod(a, n):\n",
    "    g, x, y = extended_gcd(a, n)\n",
    "    if g != 1:return 0\n",
    "    else:return x % n\n",
    "\n",
    "\n",
    "def extended_gcd(a, b):\n",
    "    if a == 0: return b, 0, 1\n",
    "    else:\n",
    "        g, x, y = extended_gcd(b % a, a)\n",
    "        return g, y - (b // a) * x, x\n",
    "\n",
    "def trouve_d(p, q, e) : \n",
    "    phi=(p-1)*(q-1)\n",
    "    return inv_mod(e, phi)\n",
    "\n",
    "# Revoir le cours pour simplifier la compréhension (j'ai compris mais les lettres m'embrouillesnt)"
   ]
  },
  {
   "cell_type": "code",
   "execution_count": 86,
   "metadata": {},
   "outputs": [
    {
     "name": "stdout",
     "output_type": "stream",
     "text": [
      "d = 675\n"
     ]
    }
   ],
   "source": [
    "#Test\n",
    "p=23\n",
    "q=47\n",
    "e=3\n",
    "print(\"d =\", trouve_d(p, q, e))# d = 675"
   ]
  },
  {
   "cell_type": "markdown",
   "metadata": {},
   "source": [
    "<p>Générer une clef RSA et vérifier que le $d$ est bien le même que celui trouvé par la fonction précédente.</p>"
   ]
  },
  {
   "cell_type": "code",
   "execution_count": null,
   "metadata": {},
   "outputs": [],
   "source": []
  },
  {
   "cell_type": "markdown",
   "metadata": {},
   "source": [
    "<p>Pour crypter un message  : \n",
    "    <br>\n",
    "    <code>PU.encrypt(message, asymmetric.padding.OAEP(mgf=asymmetric.padding.MGF1(algorithm=hashes.SHA1()), algorithm=hashes.SHA1(), label=None))</code><br>\n",
    "    et pour décrypter : <br>\n",
    "    <code>PR.decrypt(message, asymmetric.padding.OAEP(mgf=asymmetric.padding.MGF1(algorithm=hashes.SHA1()), algorithm=hashes.SHA1(), label=None))</code><br>\n",
    "    où <code>PU</code> est la clef publique et <code>PR</code> la clef privé et où le <code>message</code> est exprimé en binaire\n",
    "    </p>"
   ]
  },
  {
   "cell_type": "code",
   "execution_count": null,
   "metadata": {},
   "outputs": [],
   "source": [
    "# Génération des clés\n",
    "PR = generate_private_key(public_exponent=3, key_size=2048)\n",
    "PU = PR.public_key()\n",
    "\n",
    "# Chiffrement du message\n",
    "message = \"Voilà un chiffrement RSA !\"\n",
    "message_hex = str2hex(message)\n",
    "message_crypt_bin = PU.encrypt(bytes.fromhex(message_hex), padding.OAEP(mgf=padding.MGF1(algorithm=hashes.SHA1()), algorithm=hashes.SHA1(), label=None))\n",
    "message_crypt_hex = message_crypt_bin.hex()\n",
    "\n",
    "# Déchiffrement du message\n",
    "message_decrypt_bin = PR.decrypt(message_crypt_bin, padding.OAEP(mgf=padding.MGF1(algorithm=hashes.SHA1()), algorithm=hashes.SHA1(), label=None))\n",
    "message_decrypt = hex2str(message_decrypt_bin.hex())\n",
    "\n",
    "# affichage\n",
    "print(\"Message crypté en hexadécimale :\", message_crypt_hex)\n",
    "print(\"\\nMessage décrypté :\", message_decrypt)"
   ]
  },
  {
   "cell_type": "markdown",
   "metadata": {},
   "source": [
    "<p>Si vous connaissez une clef publique, vous pouvez créer un objet, au sens de la bibliothèque <code>cryptography</code> pour réaliser un chiffrement.<br>Pour cela on utilise la fonction <code>RSAPublicNumbers(e, n)</code> qui prend les paramètres de la clef publique. A partir de cette objet, on peux chiffrer comme dans l'exemple suivant. Si le $n$ ou le $e$ ne sont pas bien construit cela provoquera une erreur.</p>"
   ]
  },
  {
   "cell_type": "code",
   "execution_count": null,
   "metadata": {},
   "outputs": [],
   "source": [
    "n = 29291407906661569472287222393914988561121346224578366096956865504069610510947132825898478561682959684868270319259430528986547123478512425513436561435951536755144380691346255135695410065529892811623664119647430390772008241917984594572488566822493466512734047523563651548834915033917693981551520239544232568044932401930893874633926806517969198644905026004428677805143348187011317821797600408602342806098852455207716990486333961685138915418934363171978118155029886241781164613625729794217882737850748734159261155665379041273070688752419875667059212663655098996353227324559813058604901660148345909423583115198969800802389\n",
    "e = 3\n",
    "\n",
    "nombres_publique = RSAPublicNumbers(e, n)\n",
    "PU = nombres_publique.public_key(backend=default_backend())\n",
    "\n",
    "message = \"Test\"\n",
    "message_hex = str2hex(message)\n",
    "message_crypt_bin = PU.encrypt(bytes.fromhex(message_hex), padding.OAEP(mgf=padding.MGF1(algorithm=hashes.SHA1()), algorithm=hashes.SHA1(), label=None))\n",
    "message_crypt_hex = message_crypt_bin.hex()\n",
    "\n",
    "print(\"Message claire :\\n\", message)\n",
    "print(\"Message claire (hex) :\\n\", message_hex)\n",
    "print(\"Message crypté (hex) :\\n\", message_crypt_hex)\n",
    "print(\"Message crypté :\\n\", hex2str(message_crypt_hex, \"latin1\"))"
   ]
  },
  {
   "cell_type": "markdown",
   "metadata": {},
   "source": [
    "<p>Ecrire une fonction <code>E_RSA(message, n, e)</code> qui prend en paramètre les éléments d'une clef publique et un <code>message</code> en hexadécimal et qui réalise un chiffrement RSA. La valeur de retour est la chaine de caractère chiffré exprimé en hexadécimal.</p>"
   ]
  },
  {
   "cell_type": "code",
   "execution_count": null,
   "metadata": {},
   "outputs": [],
   "source": [
    "def E_RSA(txt, n, e) :\n",
    "    return \"\""
   ]
  },
  {
   "cell_type": "code",
   "execution_count": null,
   "metadata": {},
   "outputs": [],
   "source": [
    "#Test\n",
    "n = 29291407906661569472287222393914988561121346224578366096956865504069610510947132825898478561682959684868270319259430528986547123478512425513436561435951536755144380691346255135695410065529892811623664119647430390772008241917984594572488566822493466512734047523563651548834915033917693981551520239544232568044932401930893874633926806517969198644905026004428677805143348187011317821797600408602342806098852455207716990486333961685138915418934363171978118155029886241781164613625729794217882737850748734159261155665379041273070688752419875667059212663655098996353227324559813058604901660148345909423583115198969800802389\n",
    "e = 3\n",
    "message=\"Tout roule ;-)\"\n",
    "txt=E_RSA(str2hex(message), n, e)\n",
    "\n",
    "print(\"Message claire :\\n\", message)\n",
    "print(\"Message crypté (hex) :\\n\", txt)\n",
    "print(\"Message crypté :\\n\", hex2str(txt, \"latin1\"))"
   ]
  },
  {
   "cell_type": "markdown",
   "metadata": {},
   "source": [
    "<p>Inversement, si nous connaissons la clef privé, nous pouvons faire un déchiffrement. De manière duale, on utilise la fonction <code>RSAPrivateNumbers</code> mais cette fonction a besoin de plus que le $n$ et le $d$. Il faut en effet lui passer en paramètre le $p$ et $q$ tel que $n=p\\times q$. Le propriétaire de la clef privé étant le seul a avoir besoin de connaitre ce secret ce n'est pas un problème de sécurité. Il se trouve que cette fonction prend également d'autre paramètre mais ils ne dépendent que de $p$, $q$ et $d$.\n",
    "</p>"
   ]
  },
  {
   "cell_type": "code",
   "execution_count": null,
   "metadata": {},
   "outputs": [],
   "source": [
    "p=152138309605250969672678306100565819678458264275759740547716653967057595647585571162766357901741902140485755558123984288337553033889756973760407872301762351970190785193238467642351494069240811939857897711505390256289406682129447021040918320275827237346392789804770754724785475215927722116744939661244873302163\n",
    "q=145759945113837957225843299399854376920280571238474213176341612517657496026703145187769482325849050676945793827707837057473827025994893297255196085656346385262710600088566656583910515475165990020169452504731083699265770872495624156338521866343192105731424979698742173437499434744923835916374934727560785142047\n",
    "d=14783781105182311621293948377389820757773350553319879862357233797436830639686916963034983907800963112202779530977619299911891609126004284850867017686691836972299633932325621141152036440181841721803875434495848657796342838659793713767487902116459815470731415256278274246739028666979886768159510615814714616359342055206692025014147264699966541463823898942823315050070249147318376442502506736822362761390381041785788576270519430176658873918741196894870584270624069929298765227604003742945561753538380845141388283280293073795551638647444676450571263641834171696898876939567657506331911062242081256780402250477460165935635\n",
    "\n",
    "nombres_publique = RSAPublicNumbers(inv_mod(d, (p-1)*(q-1)), p*q)\n",
    "PR = RSAPrivateNumbers(p, q, d, d % (p-1), d % (q-1), inv_mod(q,p), nombres_publique).private_key()\n",
    "\n",
    "message = '503fd954df2490fc3f14179637848538584f49e548cab7f72c5e6d38d7887a09563e47372758e2f7705e99d350075f3ff3927184e18a941f6e6bddec89d206c65ce50279eee97b3b6a21f116170331c569f39a1e58034b5eda51500611a5ec61ccc0b61bbf9af387eb6d035f4243d9aa575ffc0e8f18578e8eeff52a60d9eeff33d31a73f8c88dd9f5c18671e4e79da5408ac058124a19ec0b320536896740b434e66672c011bce7989c46ab56d0fe136a85dd14e266d092f3c8e8f5551312d037b9477ecb652264e84f13f68bd51c2f282956d632297d335097a18fe070af774df2270ad417d6ebf9c0e7ff17ff36e353819296bc05a2de089ad83a1a15bfd0'\n",
    "message_decrypt_bin = PR.decrypt(bytes.fromhex(message), padding.OAEP(mgf=padding.MGF1(algorithm=hashes.SHA1()), algorithm=hashes.SHA1(), label=None))\n",
    "message_decrypt_hex = message_decrypt_bin.hex()\n",
    "\n",
    "print(\"Message claire (héxa) :\", message_decrypt_hex)\n",
    "print(\"Message claire :\", hex2str(message_decrypt_hex))"
   ]
  },
  {
   "cell_type": "markdown",
   "metadata": {},
   "source": [
    "<p>Ecrire une fonction <code>D_RSA(message, p, q, d)</code> qui prend en paramètre les éléments d'une clef privé et un <code>message</code> en hexadécimal et qui réalise un déchiffrement RSA. La valeur de retour est la chaine de caractère chiffré exprimé en hexadécimal.</p>"
   ]
  },
  {
   "cell_type": "code",
   "execution_count": null,
   "metadata": {},
   "outputs": [],
   "source": [
    "def D_RSA(txt, p, q, d) :\n",
    "    return \"\""
   ]
  },
  {
   "cell_type": "code",
   "execution_count": null,
   "metadata": {},
   "outputs": [],
   "source": [
    "#Test\n",
    "p = 12988454751701541974107348931475545120050312831239160253861806208350206227205166449972260776014779007222046273974869771991296181834674834159856067718114333\n",
    "q = 10784149788394631686981335656765118930029082756451536184056073534927579783276193203351746561675367435701379839730452707937004318383251663806705463399599619\n",
    "d = 93379627708090288219525062080520560199412478883820724433170376313207731724716544340241788723147562988307030529154886090254813309375181350726599471987902341675556873680282573386711442366910386210511793010201631141787839897781723872277995688698878380330099961238236357217940551108677979684484852090889831683451\n",
    "txt = '0fd8e1d3d1ef2f5b6d2ac8bf1416a751fcd167b13496b2d267b9edf384d280265a648749bd552e246fb18b9e2b94de79d669648725920c94ec91904a1dcb6d595ca63feb28e53fa32d2df30da1b7405e6b0c3a3236e12f46a2eea134a3b84701f35bd8d9eb6904acadd04f185fe6c027cea809bb8a6ac81b874073ea9f24fb8a'\n",
    "\n",
    "print(\"Message claire :\", hex2str(D_RSA(txt, p, q, d)))"
   ]
  },
  {
   "cell_type": "markdown",
   "metadata": {},
   "source": [
    "<p>Voulez-vous connaitre un terrible secret de prof ? Ma clef publique est <br>\n",
    "<code>\n",
    "    n= 1510618632668270646714141761954708577877544378205\n",
    "    7320975339456471343619842110692441380213747657509282\n",
    "    3651759293886518958232115577497523602040649134713228\n",
    "    0398515972165561655713266308748142512846066559556799\n",
    "    6605379872995602094033482505223280967401296724886969\n",
    "    8707157009856428482116212906892906057970523319569243\n",
    "</code>\n",
    "    <br>\n",
    "<code>    e = 65537</code>\n",
    "<br> et vous avez appris, petits espions que vous êtes, que $n=p\\times q$ et $p+q$ est compris entre \n",
    "<code>\n",
    "    2464104660488624191280708373293\n",
    "    0419471753688886381369404785220\n",
    "    6660120754633373306525629555412\n",
    "    4697859073628721712173770897450\n",
    "    8169412098556466656647930327021\n",
    "</code>\n",
    "et\n",
    "<code>\n",
    "    2464104660488624191280708373293\n",
    "    0419471753688886381369404785220\n",
    "    6660120754633373306525629555412\n",
    "    4697859073628721712173770897450\n",
    "    8169412098556466656647943327996\n",
    "</code>\n",
    "\n",
    "Voici le message qu'il vous faut essayer de déchiffrer (si vous le pouvez ... pauvre humain) : \n",
    "<code>\n",
    "    cd82c20ee60d47eb69d5a9f47db6a604\n",
    "    254f4414f19ff38dc13a0a79e4353b57\n",
    "    ec3227d547bf7d00ad4474b8a8b9ddc4\n",
    "    72b7f6c90d6b8557515c163a31014e09\n",
    "    52c1926fdd6801a53ed40f9ec180a906\n",
    "    4cf3a676a341a0b99781652d4b50b2e1\n",
    "    f3b0c34cdbd0968ab062bcbe90c97a34\n",
    "    913907ffa643080ca961bb5ac60e26d1\n",
    "</code>\n",
    "</p>"
   ]
  },
  {
   "cell_type": "code",
   "execution_count": null,
   "metadata": {},
   "outputs": [],
   "source": [
    "n = 132060850093077985949722035285391037668734853374252885558443757967323557477221864451471484831177628684131504915749336846013732511413227372357643800458844104014123480464900496804297528947705086028009005392001944632249722951814835389776093608293901946122811667033186442366726847059143961984859513324298080245493\n",
    "e = 65537\n",
    "m =  23116291316077839886870285336762939943471877456134800887346384848439565325063537590138517816090403172505096749190009408267902229979876979567079314670340970\n",
    "M =  23116291316077839886870285336762939943471877456134800887346384848439565325063537590138517816090403172505096749190009408267902229979876979567079314684933495\n",
    "message = \"5ccfc71bf35ae4db0c94c8ec5d1d494d53ca68bf8ab8b33f5db32749b418f24f7ccd55bda7cfe6a1ce9081bac8db2001677febb8243579128d626f65fd6b71b9c4e4496f9c3a60db35628f383f45c3a768002fd67aad1402069ee9fef141bc94a86af405f0f678a01a1a022e5a60452e8896f85dbd83e223d26d9a087bca10c1\"\n",
    "\n",
    "\n",
    "#Bon chance Peggy !"
   ]
  },
  {
   "cell_type": "code",
   "execution_count": null,
   "metadata": {},
   "outputs": [],
   "source": []
  }
 ],
 "metadata": {
  "hide_input": false,
  "kernelspec": {
   "display_name": "Python 3 (ipykernel)",
   "language": "python",
   "name": "python3"
  },
  "language_info": {
   "codemirror_mode": {
    "name": "ipython",
    "version": 3
   },
   "file_extension": ".py",
   "mimetype": "text/x-python",
   "name": "python",
   "nbconvert_exporter": "python",
   "pygments_lexer": "ipython3",
   "version": "3.9.12"
  }
 },
 "nbformat": 4,
 "nbformat_minor": 4
}
